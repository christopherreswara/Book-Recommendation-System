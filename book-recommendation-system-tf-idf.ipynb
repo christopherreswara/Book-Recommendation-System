{
 "cells": [
  {
   "cell_type": "markdown",
   "id": "75a326ca",
   "metadata": {
    "papermill": {
     "duration": 0.006498,
     "end_time": "2024-10-07T06:43:12.161091",
     "exception": false,
     "start_time": "2024-10-07T06:43:12.154593",
     "status": "completed"
    },
    "tags": []
   },
   "source": [
    "This notebook includes the official implementation of the paper [**Book recommendation system using TF-IDF and cosine similarity**](https://doi.org/10.1063/5.0212477) (InCASA 2023)."
   ]
  },
  {
   "cell_type": "code",
   "execution_count": 1,
   "id": "896f32e6",
   "metadata": {
    "execution": {
     "iopub.execute_input": "2024-10-07T06:43:12.174432Z",
     "iopub.status.busy": "2024-10-07T06:43:12.173810Z",
     "iopub.status.idle": "2024-10-07T06:43:14.286742Z",
     "shell.execute_reply": "2024-10-07T06:43:14.285034Z"
    },
    "papermill": {
     "duration": 2.123651,
     "end_time": "2024-10-07T06:43:14.290306",
     "exception": false,
     "start_time": "2024-10-07T06:43:12.166655",
     "status": "completed"
    },
    "tags": []
   },
   "outputs": [
    {
     "name": "stdout",
     "output_type": "stream",
     "text": [
      "[nltk_data] Downloading package stopwords to /usr/share/nltk_data...\n",
      "[nltk_data]   Package stopwords is already up-to-date!\n"
     ]
    }
   ],
   "source": [
    "# Import Libraries\n",
    "import numpy as np\n",
    "import pandas as pd\n",
    "from sklearn.feature_extraction import text\n",
    "from sklearn.metrics.pairwise import cosine_similarity\n",
    "\n",
    "import nltk\n",
    "import re\n",
    "nltk.download('stopwords')\n",
    "stemmer = nltk.SnowballStemmer(\"english\")\n",
    "from nltk.corpus import stopwords\n",
    "import string\n",
    "stopword=set(stopwords.words('english'))\n",
    "\n",
    "from tabulate import tabulate"
   ]
  },
  {
   "cell_type": "code",
   "execution_count": 2,
   "id": "44ab7f62",
   "metadata": {
    "execution": {
     "iopub.execute_input": "2024-10-07T06:43:14.304791Z",
     "iopub.status.busy": "2024-10-07T06:43:14.304279Z",
     "iopub.status.idle": "2024-10-07T06:43:15.026419Z",
     "shell.execute_reply": "2024-10-07T06:43:15.025171Z"
    },
    "papermill": {
     "duration": 0.732981,
     "end_time": "2024-10-07T06:43:15.029670",
     "exception": false,
     "start_time": "2024-10-07T06:43:14.296689",
     "status": "completed"
    },
    "tags": []
   },
   "outputs": [],
   "source": [
    "# Import Data\n",
    "data = pd.read_csv(\"/kaggle/input/book-recommendation-dataset/Books.csv\", nrows=67500)\n",
    "data = data[[\"ISBN\", \"Book-Title\", \"Book-Author\", \"Year-Of-Publication\", \"Publisher\"]]\n",
    "data.columns = [\"ISBN\", \"Title\", \"Author\", \"Year\", \"Publisher\"]"
   ]
  },
  {
   "cell_type": "code",
   "execution_count": 3,
   "id": "52cefe59",
   "metadata": {
    "execution": {
     "iopub.execute_input": "2024-10-07T06:43:15.044032Z",
     "iopub.status.busy": "2024-10-07T06:43:15.042510Z",
     "iopub.status.idle": "2024-10-07T06:43:15.164015Z",
     "shell.execute_reply": "2024-10-07T06:43:15.161922Z"
    },
    "papermill": {
     "duration": 0.131798,
     "end_time": "2024-10-07T06:43:15.167096",
     "exception": false,
     "start_time": "2024-10-07T06:43:15.035298",
     "status": "completed"
    },
    "tags": []
   },
   "outputs": [
    {
     "name": "stdout",
     "output_type": "stream",
     "text": [
      "ISBN         0\n",
      "Title        0\n",
      "Author       0\n",
      "Year         0\n",
      "Publisher    0\n",
      "dtype: int64\n",
      "ISBN         0\n",
      "Title        0\n",
      "Author       0\n",
      "Year         0\n",
      "Publisher    0\n",
      "dtype: int64\n"
     ]
    }
   ],
   "source": [
    "# Data Cleaning\n",
    "# Remove Missing Value Data\n",
    "print(data.isnull().sum())\n",
    "data = data.dropna()\n",
    "print(data.isnull().sum())"
   ]
  },
  {
   "cell_type": "code",
   "execution_count": 4,
   "id": "76d4afca",
   "metadata": {
    "execution": {
     "iopub.execute_input": "2024-10-07T06:43:15.181260Z",
     "iopub.status.busy": "2024-10-07T06:43:15.180273Z",
     "iopub.status.idle": "2024-10-07T06:43:23.562399Z",
     "shell.execute_reply": "2024-10-07T06:43:23.561023Z"
    },
    "papermill": {
     "duration": 8.392806,
     "end_time": "2024-10-07T06:43:23.565680",
     "exception": false,
     "start_time": "2024-10-07T06:43:15.172874",
     "status": "completed"
    },
    "tags": []
   },
   "outputs": [],
   "source": [
    "# Data Preprocessing\n",
    "def clean(text):\n",
    "    text = str(text).lower()\n",
    "    text = re.sub('\\[.*?\\]', '', text)\n",
    "    text = re.sub('https?://\\S+|www\\.\\S+', '', text)\n",
    "    text = re.sub('<.*?>+', '', text)\n",
    "    text = re.sub('[%s]' % re.escape(string.punctuation), '', text)\n",
    "    text = re.sub('\\n', '', text)\n",
    "    text = re.sub('\\w*\\d\\w*', '', text)\n",
    "    text = [word for word in text.split(' ') if word not in stopword]\n",
    "    text=\" \".join(text)\n",
    "    text = [stemmer.stem(word) for word in text.split(' ')]\n",
    "    text=\" \".join(text)\n",
    "    return text\n",
    "data[\"cleaned_Title\"] = data[\"Title\"].apply(clean)"
   ]
  },
  {
   "cell_type": "code",
   "execution_count": 5,
   "id": "2d9630d1",
   "metadata": {
    "execution": {
     "iopub.execute_input": "2024-10-07T06:43:23.580023Z",
     "iopub.status.busy": "2024-10-07T06:43:23.578917Z",
     "iopub.status.idle": "2024-10-07T06:43:23.589498Z",
     "shell.execute_reply": "2024-10-07T06:43:23.588400Z"
    },
    "papermill": {
     "duration": 0.020874,
     "end_time": "2024-10-07T06:43:23.592665",
     "exception": false,
     "start_time": "2024-10-07T06:43:23.571791",
     "status": "completed"
    },
    "tags": []
   },
   "outputs": [],
   "source": [
    "indices = pd.Series(data.index,index=data['cleaned_Title']).drop_duplicates()"
   ]
  },
  {
   "cell_type": "code",
   "execution_count": 6,
   "id": "c72bcb51",
   "metadata": {
    "execution": {
     "iopub.execute_input": "2024-10-07T06:43:23.606312Z",
     "iopub.status.busy": "2024-10-07T06:43:23.605813Z",
     "iopub.status.idle": "2024-10-07T06:43:23.613881Z",
     "shell.execute_reply": "2024-10-07T06:43:23.612611Z"
    },
    "papermill": {
     "duration": 0.01845,
     "end_time": "2024-10-07T06:43:23.616980",
     "exception": false,
     "start_time": "2024-10-07T06:43:23.598530",
     "status": "completed"
    },
    "tags": []
   },
   "outputs": [],
   "source": [
    "# Generate Similarity\n",
    "def get_similarity_cosine(title):\n",
    "    feature = data[\"cleaned_Title\"].tolist()\n",
    "    tfidf = text.TfidfVectorizer()\n",
    "    tfidf_matrix = tfidf.fit_transform(feature)\n",
    "    similarity_cosine = cosine_similarity(tfidf_matrix)\n",
    "    del tfidf\n",
    "    del tfidf_matrix\n",
    "    del feature\n",
    "    index = pd.Series(indices[title])\n",
    "    return similarity_cosine[index[0]]"
   ]
  },
  {
   "cell_type": "code",
   "execution_count": 7,
   "id": "72768489",
   "metadata": {
    "execution": {
     "iopub.execute_input": "2024-10-07T06:43:23.630791Z",
     "iopub.status.busy": "2024-10-07T06:43:23.630340Z",
     "iopub.status.idle": "2024-10-07T06:43:23.647190Z",
     "shell.execute_reply": "2024-10-07T06:43:23.645909Z"
    },
    "papermill": {
     "duration": 0.026984,
     "end_time": "2024-10-07T06:43:23.649946",
     "exception": false,
     "start_time": "2024-10-07T06:43:23.622962",
     "status": "completed"
    },
    "tags": []
   },
   "outputs": [],
   "source": [
    "# Generate Similarity\n",
    "def similarity(ISBN, title, similarity_scores, reverse):\n",
    "    similarity_scores = list(enumerate(similarity_scores))\n",
    "    similarity_scores = sorted(similarity_scores, key=lambda x: x[1], reverse=reverse)\n",
    "    similarity_scores = filter(lambda x: x[1] > 0, similarity_scores)\n",
    "    similarity_scores = list(similarity_scores)\n",
    "    movieindices = [i[0] for i in similarity_scores if i[0] < len(data)]\n",
    "    scores = [i[1] for i in similarity_scores if i[0] < len(data)]\n",
    "    result = pd.DataFrame([data.iloc[i] for i in movieindices])\n",
    "    result['Similarity'] = scores\n",
    "    result = result[['ISBN', 'Title', 'Similarity']]\n",
    "    result = result[result[\"ISBN\"] != ISBN]\n",
    "    result2 = result[result[\"Similarity\"] <= 0.5]\n",
    "    result = result[result[\"Similarity\"] > 0.5]\n",
    "    result = result[:20] if result.count()[0] >= 20 else result[:result.count()[0]]\n",
    "    result2 = result2[:20] if result2.count()[0] >= 20 else result2[:result2.count()[0]]\n",
    "    result = result.set_index([np.arange(1, result.count()[0] + 1)])\n",
    "    result2 = result2.set_index([np.arange(1, result2.count()[0] + 1)])\n",
    "    print(\"ISBN: \", ISBN)\n",
    "    print(\"Title: \", title)\n",
    "    print(\"Book Recommendation:\")\n",
    "    \n",
    "    print(tabulate(result, headers='keys', tablefmt = 'psql'))\n",
    "    print(tabulate(result2, headers='keys', tablefmt = 'psql'))\n",
    "        \n",
    "    del similarity_scores\n",
    "    del movieindices\n",
    "    del scores\n",
    "    del result\n",
    "    del result2"
   ]
  },
  {
   "cell_type": "code",
   "execution_count": 8,
   "id": "55cdf254",
   "metadata": {
    "execution": {
     "iopub.execute_input": "2024-10-07T06:43:23.663998Z",
     "iopub.status.busy": "2024-10-07T06:43:23.663006Z",
     "iopub.status.idle": "2024-10-07T06:43:23.670067Z",
     "shell.execute_reply": "2024-10-07T06:43:23.668713Z"
    },
    "papermill": {
     "duration": 0.017234,
     "end_time": "2024-10-07T06:43:23.672869",
     "exception": false,
     "start_time": "2024-10-07T06:43:23.655635",
     "status": "completed"
    },
    "tags": []
   },
   "outputs": [],
   "source": [
    "# Generate Recommendation\n",
    "def book_recommendation(ISBN, title):\n",
    "    clean_title = clean(title)\n",
    "    similarity_cosine = get_similarity_cosine(clean_title)\n",
    "    \n",
    "    similarity(ISBN, title, similarity_cosine, True)\n",
    "    \n",
    "    del similarity_cosine\n",
    "    del clean_title"
   ]
  },
  {
   "cell_type": "code",
   "execution_count": 9,
   "id": "932594e1",
   "metadata": {
    "execution": {
     "iopub.execute_input": "2024-10-07T06:43:23.687481Z",
     "iopub.status.busy": "2024-10-07T06:43:23.686299Z",
     "iopub.status.idle": "2024-10-07T06:44:10.929840Z",
     "shell.execute_reply": "2024-10-07T06:44:10.928167Z"
    },
    "papermill": {
     "duration": 47.259292,
     "end_time": "2024-10-07T06:44:10.937868",
     "exception": false,
     "start_time": "2024-10-07T06:43:23.678576",
     "status": "completed"
    },
    "tags": []
   },
   "outputs": [
    {
     "name": "stdout",
     "output_type": "stream",
     "text": [
      "ISBN:  051513290X\n",
      "Title:  Summer of Storms\n",
      "Book Recommendation:\n",
      "+----+------------+--------------------------------------------+--------------+\n",
      "|    | ISBN       | Title                                      |   Similarity |\n",
      "|----+------------+--------------------------------------------+--------------|\n",
      "|  1 | 0399146741 | Summer of Storms                           |     1        |\n",
      "|  2 | 0373114087 | Summer Storm (Harlequin Presents, No 1408) |     0.794218 |\n",
      "|  3 | 0451201906 | Storm                                      |     0.740812 |\n",
      "|  4 | 084393672X | Storm                                      |     0.740812 |\n",
      "|  5 | 044040892X | Against the Storm                          |     0.740812 |\n",
      "|  6 | 0553214225 | Summer                                     |     0.671713 |\n",
      "|  7 | 1551662809 | Just For The Summer                        |     0.671713 |\n",
      "|  8 | 0552995649 | Just for the Summer                        |     0.671713 |\n",
      "|  9 | 0425064506 | Summer                                     |     0.671713 |\n",
      "| 10 | 0380710757 | Summer of '49                              |     0.671713 |\n",
      "| 11 | 002700290X | Some Other Summer                          |     0.671713 |\n",
      "| 12 | 0446610445 | That Summer                                |     0.671713 |\n",
      "| 13 | 0571204732 | That Summer                                |     0.671713 |\n",
      "| 14 | 0440983827 | Summer Before                              |     0.671713 |\n",
      "| 15 | 0553563289 | Love Storm                                 |     0.616286 |\n",
      "| 16 | 0689846215 | Star in the Storm                          |     0.589418 |\n",
      "| 17 | 0380756234 | Night Storm                                |     0.584942 |\n",
      "| 18 | 0373832079 | House Of Storms                            |     0.580464 |\n",
      "| 19 | 0312961308 | The Day of the Storm                       |     0.579316 |\n",
      "| 20 | 0440202531 | The Day of the Storm                       |     0.579316 |\n",
      "+----+------------+--------------------------------------------+--------------+\n",
      "+----+------------+-----------------------------+--------------+\n",
      "|    |       ISBN | Title                       |   Similarity |\n",
      "|----+------------+-----------------------------+--------------|\n",
      "|  1 | 0752800752 | The Last Summer             |     0.499589 |\n",
      "|  2 | 1551665093 | Summer's Child              |     0.48697  |\n",
      "|  3 | 0345440404 | Summer Moon                 |     0.486524 |\n",
      "|  4 | 0373094582 | Summer Shadows              |     0.484801 |\n",
      "|  5 | 0316706000 | The Ice Storm: A Novel      |     0.484427 |\n",
      "|  6 | 0553582658 | Summer Light                |     0.483971 |\n",
      "|  7 | 0061054259 | Summer Light                |     0.483971 |\n",
      "|  8 | 0670822485 | Summer Light                |     0.483971 |\n",
      "|  9 | 0553801228 | Summer Light                |     0.483971 |\n",
      "| 10 | 0449218422 | Summer People               |     0.483488 |\n",
      "| 11 | 0380896931 | Tender Is the Storm         |     0.480199 |\n",
      "| 12 | 0446609390 | Storm Track                 |     0.478186 |\n",
      "| 13 | 0385324057 | Summer Sisters              |     0.477176 |\n",
      "| 14 | 0440226430 | Summer Sisters              |     0.477176 |\n",
      "| 15 | 1568657986 | Summer Sisters              |     0.477176 |\n",
      "| 16 | 0373711018 | A Summer Place              |     0.475869 |\n",
      "| 17 | 1551664496 | That Summer Place           |     0.475869 |\n",
      "| 18 | 1570719926 | An American Summer: A Novel |     0.472204 |\n",
      "| 19 | 0440202558 | The End of Summer           |     0.471824 |\n",
      "| 20 | 0440184053 | Summer's End                |     0.471824 |\n",
      "+----+------------+-----------------------------+--------------+\n"
     ]
    }
   ],
   "source": [
    "def Book(ISBN):\n",
    "    book = data.loc[data[\"ISBN\"] == ISBN]\n",
    "    title = book.Title.item()\n",
    "    book_recommendation(ISBN, title)\n",
    "    \n",
    "    del book\n",
    "    del title\n",
    "\n",
    "Book(\"051513290X\")"
   ]
  },
  {
   "cell_type": "code",
   "execution_count": 10,
   "id": "ed6f0fe8",
   "metadata": {
    "execution": {
     "iopub.execute_input": "2024-10-07T06:44:10.953061Z",
     "iopub.status.busy": "2024-10-07T06:44:10.951685Z",
     "iopub.status.idle": "2024-10-07T06:44:54.512009Z",
     "shell.execute_reply": "2024-10-07T06:44:54.510627Z"
    },
    "papermill": {
     "duration": 43.576408,
     "end_time": "2024-10-07T06:44:54.520240",
     "exception": false,
     "start_time": "2024-10-07T06:44:10.943832",
     "status": "completed"
    },
    "tags": []
   },
   "outputs": [
    {
     "name": "stdout",
     "output_type": "stream",
     "text": [
      "ISBN:  0821722999\n",
      "Title:  Heart of the Country\n",
      "Book Recommendation:\n",
      "+----+------------+-------------------------+--------------+\n",
      "|    | ISBN       | Title                   |   Similarity |\n",
      "|----+------------+-------------------------+--------------|\n",
      "|  1 | 0099533405 | Heart of the Country    |     1        |\n",
      "|  2 | 0446611913 | Up Country              |     0.767146 |\n",
      "|  3 | 0060809590 | In Country              |     0.767146 |\n",
      "|  4 | 0446516570 | Up Country: A Novel     |     0.65195  |\n",
      "|  5 | 0446605891 | With Heart              |     0.641473 |\n",
      "|  6 | 0380767635 | Where the Heart Is      |     0.641473 |\n",
      "|  7 | 0446603651 | Where the Heart Is      |     0.641473 |\n",
      "|  8 | 1561002690 | Where the Heart Is      |     0.641473 |\n",
      "|  9 | 0312252803 | The Country Life        |     0.624087 |\n",
      "| 10 | 1841150371 | In the New Country      |     0.605442 |\n",
      "| 11 | 0449908615 | Star Country            |     0.593234 |\n",
      "| 12 | 0812522486 | The Little Country      |     0.590608 |\n",
      "| 13 | 0312876491 | The Little Country      |     0.590608 |\n",
      "| 14 | 0803267355 | The Night Country       |     0.588305 |\n",
      "| 15 | 0452283434 | The Country Girls       |     0.584382 |\n",
      "| 16 | 055358264X | Dream Country           |     0.579994 |\n",
      "| 17 | 0553801198 | Dream Country           |     0.579994 |\n",
      "| 18 | 0933585136 | Make It Country         |     0.566685 |\n",
      "| 19 | 0816741271 | A Country Christmas     |     0.564117 |\n",
      "| 20 | 0553255274 | Coming into the Country |     0.553867 |\n",
      "+----+------------+-------------------------+--------------+\n",
      "+----+------------+----------------------------------------------------------------------+--------------+\n",
      "|    | ISBN       | Title                                                                |   Similarity |\n",
      "|----+------------+----------------------------------------------------------------------+--------------|\n",
      "|  1 | 0906399319 | Another country                                                      |     0.498382 |\n",
      "|  2 | 0316641766 | Country of the Blind                                                 |     0.498382 |\n",
      "|  3 | 0380716135 | The Kingdom in the Country                                           |     0.495407 |\n",
      "|  4 | 0373872062 | Loving Hearts                                                        |     0.486579 |\n",
      "|  5 | 0679767185 | The Country Ahead of Us, The Country Behind (Vintage Contemporaries) |     0.484491 |\n",
      "|  6 | 0061093327 | Low Country                                                          |     0.47137  |\n",
      "|  7 | 0679752927 | My Own Country: A Doctor's Story                                     |     0.47036  |\n",
      "|  8 | 0670814458 | In the Country of Last Things                                        |     0.468133 |\n",
      "|  9 | 0679890998 | Robin's Country                                                      |     0.463689 |\n",
      "| 10 | 0553213938 | The Custom of the Country                                            |     0.460723 |\n",
      "| 11 | 0385729472 | Secret Heart                                                         |     0.459745 |\n",
      "| 12 | 0373711026 | North Country Man                                                    |     0.45798  |\n",
      "| 13 | 0373822219 | Man from the North Country                                           |     0.45798  |\n",
      "| 14 | 0380792990 | The Invisible Country: Stories                                       |     0.454585 |\n",
      "| 15 | 0553134469 | Women Have Hearts                                                    |     0.452805 |\n",
      "| 16 | 0060192631 | One Heart                                                            |     0.451939 |\n",
      "| 17 | 038080123X | Enchanted Hearts #1: The Haunted Heart (Enchanted Hearts, 1)         |     0.451743 |\n",
      "| 18 | 0385720173 | The Death of the Heart                                               |     0.450223 |\n",
      "| 19 | 0060170085 | Death in a Strange Country                                           |     0.448955 |\n",
      "| 20 | 0061094064 | Death in a Strange Country                                           |     0.448955 |\n",
      "+----+------------+----------------------------------------------------------------------+--------------+\n"
     ]
    }
   ],
   "source": [
    "Book(\"0821722999\")"
   ]
  },
  {
   "cell_type": "code",
   "execution_count": 11,
   "id": "9414b611",
   "metadata": {
    "execution": {
     "iopub.execute_input": "2024-10-07T06:44:54.534344Z",
     "iopub.status.busy": "2024-10-07T06:44:54.533853Z",
     "iopub.status.idle": "2024-10-07T06:45:37.894683Z",
     "shell.execute_reply": "2024-10-07T06:45:37.893292Z"
    },
    "papermill": {
     "duration": 43.377677,
     "end_time": "2024-10-07T06:45:37.903822",
     "exception": false,
     "start_time": "2024-10-07T06:44:54.526145",
     "status": "completed"
    },
    "tags": []
   },
   "outputs": [
    {
     "name": "stdout",
     "output_type": "stream",
     "text": [
      "ISBN:  0517123207\n",
      "Title:  Origin of Species\n",
      "Book Recommendation:\n",
      "+----+------------+------------------------------------------------------------------------+--------------+\n",
      "|    |       ISBN | Title                                                                  |   Similarity |\n",
      "|----+------------+------------------------------------------------------------------------+--------------|\n",
      "|  1 | 1853267805 | THE ORIGIN OF SPECIES                                                  |     1        |\n",
      "|  2 | 0553574043 | Species: A Novel                                                       |     0.718172 |\n",
      "|  3 | 0375501037 | Darwin's Ghost: The Origin of Species Updated                          |     0.645249 |\n",
      "|  4 | 0812570758 | Species II: A Novel                                                    |     0.594928 |\n",
      "|  5 | 0674637526 | On the Origin of Species a Facsimile of the First (Harvard Paperbacks) |     0.585922 |\n",
      "+----+------------+------------------------------------------------------------------------+--------------+\n",
      "+----+------------+-------------------------------------------------------------------------------------------------------------------------------------+--------------+\n",
      "|    | ISBN       | Title                                                                                                                               |   Similarity |\n",
      "|----+------------+-------------------------------------------------------------------------------------------------------------------------------------+--------------|\n",
      "|  1 | 0684194201 | Fragile Species                                                                                                                     |     0.497668 |\n",
      "|  2 | 014040001X | The Origin of Species by Means of Natural Selection: Or, the Preservation of Favoured Races in the Struggled for Life (Classics S.) |     0.44996  |\n",
      "|  3 | 0425169863 | Point of Origin                                                                                                                     |     0.434141 |\n",
      "|  4 | 0399143947 | Point of Origin                                                                                                                     |     0.434141 |\n",
      "|  5 | 0451627768 | The Origin of Species: By Means of Natural Selection or the Preservation of Favoured Races in the Struggle for Life (Mentor)        |     0.427905 |\n",
      "|  6 | 0679438890 | Original Sin                                                                                                                        |     0.427883 |\n",
      "|  7 | 0446602345 | Original Sin                                                                                                                        |     0.427883 |\n",
      "|  8 | 0446679224 | Original Sin                                                                                                                        |     0.427883 |\n",
      "|  9 | 0671660705 | Unknown Man: The Mysterious Birth of a New Species                                                                                  |     0.423534 |\n",
      "| 10 | 0891041842 | The Vikings and Their Origins                                                                                                       |     0.406026 |\n",
      "| 11 | 1859845878 | Bushwomen: Tales of a Cynical Species                                                                                               |     0.389393 |\n",
      "| 12 | 0375402721 | Original Bliss                                                                                                                      |     0.385106 |\n",
      "| 13 | 0679401407 | The Origin of Satan                                                                                                                 |     0.380179 |\n",
      "| 14 | 1576731278 | Stories for the Heart: The Original Collection                                                                                      |     0.371042 |\n",
      "| 15 | 0380725835 | Endangered Species (Anna Pigeon Mysteries (Paperback))                                                                              |     0.369022 |\n",
      "| 16 | 0195022459 | This Species of Property: Slave Life and Culture in the Old South                                                                   |     0.354183 |\n",
      "| 17 | 0684829479 | The Origins of The Second World War                                                                                                 |     0.352538 |\n",
      "| 18 | 0345430808 | Manifold: Origin                                                                                                                    |     0.352266 |\n",
      "| 19 | 0142301094 | Origins (Sweep, 11)                                                                                                                 |     0.352266 |\n",
      "| 20 | 0345430794 | Manifold: Origin                                                                                                                    |     0.352266 |\n",
      "+----+------------+-------------------------------------------------------------------------------------------------------------------------------------+--------------+\n"
     ]
    }
   ],
   "source": [
    "Book(\"0517123207\")"
   ]
  },
  {
   "cell_type": "markdown",
   "id": "6fb14101",
   "metadata": {
    "papermill": {
     "duration": 0.007121,
     "end_time": "2024-10-07T06:45:37.917055",
     "exception": false,
     "start_time": "2024-10-07T06:45:37.909934",
     "status": "completed"
    },
    "tags": []
   },
   "source": [
    "If you found our implementation useful, please consider citing our paper:\n",
    "\n",
    "Christopher Gavra Reswara, Josua Nicolas, I. Made Danendra Widyatama, David David, Panji Arisaputra; Book recommendation system using TF-IDF and cosine similarity. AIP Conf. Proc. 10 May 2024; 3135 (1): 020003. [10.1063/5.0212477](https://doi.org/10.1063/5.0212477)"
   ]
  }
 ],
 "metadata": {
  "kaggle": {
   "accelerator": "none",
   "dataSources": [
    {
     "datasetId": 1004280,
     "sourceId": 7595263,
     "sourceType": "datasetVersion"
    }
   ],
   "dockerImageVersionId": 30407,
   "isGpuEnabled": false,
   "isInternetEnabled": true,
   "language": "python",
   "sourceType": "notebook"
  },
  "kernelspec": {
   "display_name": "Python 3",
   "language": "python",
   "name": "python3"
  },
  "language_info": {
   "codemirror_mode": {
    "name": "ipython",
    "version": 3
   },
   "file_extension": ".py",
   "mimetype": "text/x-python",
   "name": "python",
   "nbconvert_exporter": "python",
   "pygments_lexer": "ipython3",
   "version": "3.7.12"
  },
  "papermill": {
   "default_parameters": {},
   "duration": 160.904037,
   "end_time": "2024-10-07T06:45:38.849647",
   "environment_variables": {},
   "exception": null,
   "input_path": "__notebook__.ipynb",
   "output_path": "__notebook__.ipynb",
   "parameters": {},
   "start_time": "2024-10-07T06:42:57.945610",
   "version": "2.4.0"
  }
 },
 "nbformat": 4,
 "nbformat_minor": 5
}
